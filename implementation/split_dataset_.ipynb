{
  "nbformat": 4,
  "nbformat_minor": 0,
  "metadata": {
    "colab": {
      "provenance": [],
      "authorship_tag": "ABX9TyMVDuYj82B22OF7B43COjby",
      "include_colab_link": true
    },
    "kernelspec": {
      "name": "python3",
      "display_name": "Python 3"
    },
    "language_info": {
      "name": "python"
    }
  },
  "cells": [
    {
      "cell_type": "markdown",
      "metadata": {
        "id": "view-in-github",
        "colab_type": "text"
      },
      "source": [
        "<a href=\"https://colab.research.google.com/github/randiepathirage/4th/blob/main/implementation/split_dataset_.ipynb\" target=\"_parent\"><img src=\"https://colab.research.google.com/assets/colab-badge.svg\" alt=\"Open In Colab\"/></a>"
      ]
    },
    {
      "cell_type": "code",
      "source": [
        "import pandas as pd\n",
        "import csv"
      ],
      "metadata": {
        "id": "41KNQianZOlx"
      },
      "execution_count": null,
      "outputs": []
    },
    {
      "cell_type": "code",
      "execution_count": null,
      "metadata": {
        "id": "F_EPAQUzY57W"
      },
      "outputs": [],
      "source": [
        "# DATA_PATH = '/content/drive/MyDrive/UNI/4th Year/Research/DataSet/LTRL_Clean.tsv'\n",
        "TEST_DATA_PATH = '/content/result (7).csv'\n",
        "\n",
        "df = pd.read_csv(TEST_DATA_PATH,names=[\"Singlish\"],dtype=str).astype(str)\n",
        "df = df.sample(frac=1).reset_index(drop=True)\n",
        "test_data = df['Singlish'].tolist()"
      ]
    },
    {
      "cell_type": "code",
      "source": [
        "word_list=[]\n",
        "for i in test_data:\n",
        "  words = []\n",
        "  words = i.split(\" \")\n",
        "\n",
        "  for word in words:\n",
        "    if word not in word_list:\n",
        "      word_list.append(word)"
      ],
      "metadata": {
        "id": "nkiMp7jXZVWl"
      },
      "execution_count": null,
      "outputs": []
    },
    {
      "cell_type": "code",
      "source": [
        "word_list"
      ],
      "metadata": {
        "id": "supe-x3HeF9X"
      },
      "execution_count": null,
      "outputs": []
    },
    {
      "cell_type": "code",
      "source": [
        "dict = {'Singlish': word_list} \n",
        "df2 = pd.DataFrame(dict)\n",
        "df2.to_csv('test_data.csv') "
      ],
      "metadata": {
        "id": "mGd8YJhJc5Kp"
      },
      "execution_count": null,
      "outputs": []
    }
  ]
}