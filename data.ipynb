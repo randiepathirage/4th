{
  "nbformat": 4,
  "nbformat_minor": 0,
  "metadata": {
    "colab": {
      "provenance": [],
      "authorship_tag": "ABX9TyNcA+9F1z/VnjCnt9OM46bw",
      "include_colab_link": true
    },
    "kernelspec": {
      "name": "python3",
      "display_name": "Python 3"
    },
    "language_info": {
      "name": "python"
    }
  },
  "cells": [
    {
      "cell_type": "markdown",
      "metadata": {
        "id": "view-in-github",
        "colab_type": "text"
      },
      "source": [
        "<a href=\"https://colab.research.google.com/github/randiepathirage/4th/blob/main/data.ipynb\" target=\"_parent\"><img src=\"https://colab.research.google.com/assets/colab-badge.svg\" alt=\"Open In Colab\"/></a>"
      ]
    },
    {
      "cell_type": "markdown",
      "source": [
        "1. remove emojis \n",
        "2. remove duplicates \n",
        "3. sort\n",
        "4. remove < media omitted >"
      ],
      "metadata": {
        "id": "HtHXZ0wB_BBr"
      }
    },
    {
      "cell_type": "code",
      "source": [
        "from google.colab import drive\n",
        "\n",
        "drive.mount('/content/drive')"
      ],
      "metadata": {
        "id": "iaH37qy0qczw",
        "colab": {
          "base_uri": "https://localhost:8080/"
        },
        "outputId": "47bae4a9-f0e8-4f5a-a575-c9ff0b3680f8"
      },
      "execution_count": null,
      "outputs": [
        {
          "output_type": "stream",
          "name": "stdout",
          "text": [
            "Mounted at /content/drive\n"
          ]
        }
      ]
    },
    {
      "cell_type": "code",
      "source": [
        "!pip install emoji"
      ],
      "metadata": {
        "colab": {
          "base_uri": "https://localhost:8080/"
        },
        "id": "weZNjRnMiIqz",
        "outputId": "8b985b24-7368-4c12-fde6-57e7a68ee319"
      },
      "execution_count": null,
      "outputs": [
        {
          "output_type": "stream",
          "name": "stdout",
          "text": [
            "Looking in indexes: https://pypi.org/simple, https://us-python.pkg.dev/colab-wheels/public/simple/\n",
            "Collecting emoji\n",
            "  Downloading emoji-2.1.0.tar.gz (216 kB)\n",
            "\u001b[K     |████████████████████████████████| 216 kB 5.3 MB/s \n",
            "\u001b[?25hBuilding wheels for collected packages: emoji\n",
            "  Building wheel for emoji (setup.py) ... \u001b[?25l\u001b[?25hdone\n",
            "  Created wheel for emoji: filename=emoji-2.1.0-py3-none-any.whl size=212392 sha256=52c105461664aaa20561e36d68c2ab60fda47fa68da7f8005aaad810945c7d5b\n",
            "  Stored in directory: /root/.cache/pip/wheels/77/75/99/51c2a119f4cfd3af7b49cc57e4f737bed7e40b348a85d82804\n",
            "Successfully built emoji\n",
            "Installing collected packages: emoji\n",
            "Successfully installed emoji-2.1.0\n"
          ]
        }
      ]
    },
    {
      "cell_type": "code",
      "source": [
        "import emoji\n",
        "\n",
        "with open('result.csv' , 'a') as newFile:\n",
        "  for x in range(1,5):\n",
        "    with open('/content/drive/MyDrive/4th year Research/data/WhatsappChat'+str(x)+'.txt','r') as file2:\n",
        "      contents = file2.readlines()\n",
        "\n",
        "    for i in range(0,len(contents)):\n",
        "      text = emoji.replace_emoji(contents[i].rsplit(\":\",1)[-1], replace='', version=- 1)\n",
        "      print(text)\n",
        "      newFile.write(text)"
      ],
      "metadata": {
        "id": "oZNDeaOYq7YE"
      },
      "execution_count": null,
      "outputs": []
    }
  ]
}